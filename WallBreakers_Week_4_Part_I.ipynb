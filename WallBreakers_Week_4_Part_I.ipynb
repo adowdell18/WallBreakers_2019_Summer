{
  "nbformat": 4,
  "nbformat_minor": 0,
  "metadata": {
    "colab": {
      "name": "WallBreakers_Week 4_Part I.ipynb",
      "version": "0.3.2",
      "provenance": []
    },
    "kernelspec": {
      "name": "python3",
      "display_name": "Python 3"
    }
  },
  "cells": [
    {
      "cell_type": "markdown",
      "metadata": {
        "id": "R2VImfVIEpOZ",
        "colab_type": "text"
      },
      "source": [
        "## Odd Even List"
      ]
    },
    {
      "cell_type": "code",
      "metadata": {
        "id": "_0ELH5I_Eoep",
        "colab_type": "code",
        "colab": {}
      },
      "source": [
        "# Definition for singly-linked list.\n",
        "# class ListNode:\n",
        "#     def __init__(self, x):\n",
        "#         self.val = x\n",
        "#         self.next = None\n",
        "\n",
        "class Solution:\n",
        "    def oddEvenList(self, head):\n",
        "        \"\"\"\n",
        "        :type head: ListNode\n",
        "        :rtype: ListNode\n",
        "        \"\"\"\n",
        "        if head is None: return None\n",
        "        currOdd = head #1 # technically don't need oddhead can add for consistency\n",
        "        currEven = evenHead = head.next #2\n",
        "        \n",
        "        while currEven is not None and currEven.next is not None:\n",
        "            currOdd.next = currEven.next #current odd is 1 : 1 --->3; 3--->5-->7-->None\n",
        "            currOdd = currOdd.next #curr odd: 3 ; 5; 7-->None\n",
        "            currEven.next = currOdd.next #curr even is 2: 2--->4 ; 4 --->None; 4-->6-->8\n",
        "            currEven = currEven.next #curr even is 4; None # terminates whle loop here; 6--8\n",
        "        currOdd.next = evenHead # Link new re ordered odds and events together; \n",
        "        # curr odd is currently the curr odd in memory and even head was already prestored;\n",
        "        \n",
        "        #print(oddHead.val)\n",
        "        return head"
      ],
      "execution_count": 0,
      "outputs": []
    },
    {
      "cell_type": "markdown",
      "metadata": {
        "id": "KrREcLJdE1yx",
        "colab_type": "text"
      },
      "source": [
        "## Reverse Linked List"
      ]
    },
    {
      "cell_type": "code",
      "metadata": {
        "id": "knh4Rxi6E2AF",
        "colab_type": "code",
        "colab": {}
      },
      "source": [
        "# Definition for singly-linked list.\n",
        "# class ListNode:\n",
        "#     def __init__(self, x):\n",
        "#         self.val = x\n",
        "#         self.next = None\n",
        "\n",
        "class Solution:\n",
        "    def reverseList(self, head):\n",
        "        \"\"\"\n",
        "        :type head: ListNode\n",
        "        :rtype: ListNode\n",
        "        \"\"\"\n",
        "        if not head or not head.next:\n",
        "            return head\n",
        "\n",
        "        pointer = head.next\n",
        "        newLinkedList = self.reverseList(pointer)\n",
        "\n",
        "        head.next = None\n",
        "        pointer.next = head\n",
        "        return newLinkedList"
      ],
      "execution_count": 0,
      "outputs": []
    },
    {
      "cell_type": "markdown",
      "metadata": {
        "id": "-q6z433aFHyH",
        "colab_type": "text"
      },
      "source": [
        "## Reverse K Group\n"
      ]
    },
    {
      "cell_type": "code",
      "metadata": {
        "id": "L5yb2kztFIAf",
        "colab_type": "code",
        "colab": {}
      },
      "source": [
        "# Definition for singly-linked list.\n",
        "# class ListNode:\n",
        "#     def __init__(self, x):\n",
        "#         self.val = x\n",
        "#         self.next = None\n",
        "\n",
        "class Solution:\n",
        "    def reverseKGroup(self, head, k):\n",
        "        \"\"\"\n",
        "        :type head: ListNode\n",
        "        :type k: int\n",
        "        :rtype: ListNode\n",
        "        \"\"\"\n",
        "        if k <= 1 or not head:\n",
        "            return head\n",
        "        \n",
        "        init = ListNode(0)\n",
        "        init.next = head\n",
        "        curr = init\n",
        "        while curr:\n",
        "            curr = self.flipNodes(curr,k)\n",
        "        return init.next\n",
        "        \n",
        "        \n",
        "\n",
        "    def flipNodes(self, head, k):\n",
        "        t = head\n",
        "        for i in range (k):\n",
        "            if not t.next:\n",
        "                return None\n",
        "            t = t. next\n",
        "        startnode = head.next\n",
        "        prev = head\n",
        "        curr = head.next\n",
        "        \n",
        "        for i in range(k):\n",
        "            nextnode = curr.next\n",
        "            curr.next = prev\n",
        "            prev = curr\n",
        "            curr = nextnode\n",
        "        startnode.next = curr\n",
        "        head.next = prev\n",
        "        return startnode"
      ],
      "execution_count": 0,
      "outputs": []
    },
    {
      "cell_type": "markdown",
      "metadata": {
        "id": "hb0etyMNFklb",
        "colab_type": "text"
      },
      "source": [
        "## LRU Cache"
      ]
    },
    {
      "cell_type": "code",
      "metadata": {
        "id": "uqLlmcr0Fkyj",
        "colab_type": "code",
        "colab": {}
      },
      "source": [
        "class LRUCache:\n",
        "    class LRUNode:\n",
        "        def __init__(self, key, val):\n",
        "            self.prev = None\n",
        "            self.next = None\n",
        "            self.key = key\n",
        "            self.val = val\n",
        "    \n",
        "\n",
        "    def __init__(self, capacity):\n",
        "        \"\"\"\n",
        "        :type capacity: int\n",
        "        \"\"\"\n",
        "        self.cachemap = {}\n",
        "        self.ll_head = LRUCache.LRUNode(-1,-1)\n",
        "        self.ll_tail = LRUCache.LRUNode(-1,-1)\n",
        "        self.ll_head.next = self.ll_tail\n",
        "        self.ll_tail.prev = self.ll_head\n",
        "        self.capacity = capacity\n",
        "        \n",
        "        \n",
        "\n",
        "    def get(self, key):\n",
        "        \"\"\"\n",
        "        :type key: int\n",
        "        :rtype: int\n",
        "        \"\"\"\n",
        "        if key in self.cachemap:\n",
        "            curr = self.cachemap.get(key)\n",
        "            # move up in cache ll since it's no longer least recently accessed\n",
        "            # move from front of list to end of list/ tail \n",
        "            # tail is most recently accesed value in this case\n",
        "            self.remove_node(curr) \n",
        "            self.addNodeBeforeTail(curr)\n",
        "            # return value of key\n",
        "            return curr.val\n",
        "        else:\n",
        "            return -1\n",
        "\n",
        "    def put(self, key, value):\n",
        "        \"\"\"\n",
        "        :type key: int\n",
        "        :type value: int\n",
        "        :rtype: void\n",
        "        \"\"\"\n",
        "        if key in self.cachemap:self.remove_node(self.cachemap[key])\n",
        "        node = LRUCache.LRUNode(key, value)\n",
        "        self.addNodeBeforeTail(node)\n",
        "        self.cachemap[key] = node\n",
        "        \n",
        "        if len(self.cachemap) > self.capacity:\n",
        "            node = self.ll_head.next\n",
        "            self.remove_node(node)\n",
        "            del self.cachemap[node.key]\n",
        "    ##### helper functions\n",
        "    \n",
        "    def remove_node(self, node):\n",
        "        prevNode = node.prev\n",
        "        nextNode = node.next\n",
        "        prevNode.next = nextNode\n",
        "        nextNode.prev = prevNode\n",
        "        \n",
        "    # adding before tail since tail node most recently acessed\n",
        "    def addNodeBeforeTail(self, new_node): \n",
        "        prev = self.ll_tail.prev\n",
        "        prev.next = new_node\n",
        "        self.ll_tail.prev = new_node\n",
        "        new_node.prev = prev\n",
        "        new_node.next = self.ll_tail\n",
        "        \n",
        "        \n",
        "        \n",
        "\n",
        "\n",
        "# Your LRUCache object will be instantiated and called as such:\n",
        "# obj = LRUCache(capacity)\n",
        "# param_1 = obj.get(key)\n",
        "# obj.put(key,value)"
      ],
      "execution_count": 0,
      "outputs": []
    },
    {
      "cell_type": "markdown",
      "metadata": {
        "id": "9cv0Y91YF33L",
        "colab_type": "text"
      },
      "source": [
        "## Cal Points\n"
      ]
    },
    {
      "cell_type": "code",
      "metadata": {
        "id": "2CuiPVF5F4C4",
        "colab_type": "code",
        "colab": {}
      },
      "source": [
        "class Solution:\n",
        "    def calPoints(self, ops):\n",
        "        \"\"\"\n",
        "        :type ops: List[str]\n",
        "        :rtype: int\n",
        "        \"\"\"\n",
        "        points = []\n",
        "        \n",
        "        for record in ops:\n",
        "            if record == \"+\":\n",
        "                points.append(sum(points[-2:]))\n",
        "            elif record == \"C\":\n",
        "                if points:\n",
        "                    del points[-1]\n",
        "            elif record == \"D\":\n",
        "                if points:\n",
        "                    points.append(points[-1]*2)\n",
        "            else: \n",
        "                points.append(int(record))\n",
        "        print(points)\n",
        "        return sum(points)\n",
        "                "
      ],
      "execution_count": 0,
      "outputs": []
    },
    {
      "cell_type": "markdown",
      "metadata": {
        "id": "v6xuyEpNGDYt",
        "colab_type": "text"
      },
      "source": [
        "## Next Greater Element I"
      ]
    },
    {
      "cell_type": "code",
      "metadata": {
        "id": "elq_n0NWGDj1",
        "colab_type": "code",
        "colab": {}
      },
      "source": [
        "class Solution:\n",
        "    def nextGreaterElement(self, nums1, nums2):\n",
        "        \"\"\"\n",
        "        :type nums1: List[int]\n",
        "        :type nums2: List[int]\n",
        "        :rtype: List[int]\n",
        "        \"\"\"\n",
        "        if len(nums2) == 0:\n",
        "            return []\n",
        "        stack = [nums2[0]]\n",
        "        gThanDict = {}\n",
        "        \n",
        "        for i in range (1, len(nums2)):\n",
        "            cVal = nums2[i]\n",
        "            while stack and stack[-1] < cVal:\n",
        "                gThanDict[stack[-1]] = cVal\n",
        "                stack = stack[:-1] # pop current value that has greater than vlaue\n",
        "            stack.append(cVal) #fill stack with next value, final will only contain \n",
        "            # values that didn't meet criteria\n",
        "        for num in stack:\n",
        "            gThanDict[num] = -1\n",
        "        \n",
        "        answer = []\n",
        "        for num in nums1:\n",
        "            answer.append(gThanDict[num])\n",
        "        \n",
        "        return answer\n",
        "        "
      ],
      "execution_count": 0,
      "outputs": []
    },
    {
      "cell_type": "markdown",
      "metadata": {
        "id": "GY5dXKiCGXsc",
        "colab_type": "text"
      },
      "source": [
        "## Is Valid"
      ]
    },
    {
      "cell_type": "code",
      "metadata": {
        "id": "c1oD6dRvGX6G",
        "colab_type": "code",
        "colab": {}
      },
      "source": [
        "class Solution(object):\n",
        "    def isValid(self, s):\n",
        "        \"\"\"\n",
        "        :type s: str\n",
        "        :rtype: bool\n",
        "        \"\"\"\n",
        "        \n",
        "        checkPairDict = {\"}\": \"{\", \")\":\"(\", \"]\":\"[\"}\n",
        "        openingBracketStack = []\n",
        "        for char in s:\n",
        "            if char not in checkPairDict:\n",
        "                openingBracketStack.append(char)\n",
        "            else:\n",
        "                if len(openingBracketStack) == 0 or openingBracketStack.pop() != checkPairDict[char]:\n",
        "                    return False\n",
        "        return True if len(openingBracketStack)==0 else False\n",
        "        "
      ],
      "execution_count": 0,
      "outputs": []
    },
    {
      "cell_type": "markdown",
      "metadata": {
        "id": "Z2hAhFqpGq8r",
        "colab_type": "text"
      },
      "source": [
        "## Score of Parentheses"
      ]
    },
    {
      "cell_type": "code",
      "metadata": {
        "id": "xeiHPi6kGrHd",
        "colab_type": "code",
        "colab": {}
      },
      "source": [
        "class Solution(object):\n",
        "    def scoreOfParentheses(self, S):\n",
        "        \"\"\"\n",
        "        :type S: str\n",
        "        :rtype: int\n",
        "        \"\"\"\n",
        "        st = [0]\n",
        "        \n",
        "        for char in S:\n",
        "            if char == '(':\n",
        "                st.append(0)\n",
        "            else:\n",
        "                value = st.pop()\n",
        "                st[-1] += max( 2 * value , 1)\n",
        "            \n",
        "        return st.pop()\n",
        "            "
      ],
      "execution_count": 0,
      "outputs": []
    },
    {
      "cell_type": "markdown",
      "metadata": {
        "id": "rpsSKlCiG6l4",
        "colab_type": "text"
      },
      "source": [
        "## 225. Implement Stack using Queues\n"
      ]
    },
    {
      "cell_type": "code",
      "metadata": {
        "id": "hs2cgtmsG7UZ",
        "colab_type": "code",
        "colab": {}
      },
      "source": [
        "class MyStack(object):\n",
        "\n",
        "    def __init__(self):\n",
        "        \"\"\"\n",
        "        Initialize your data structure here.\n",
        "        \"\"\"\n",
        "        self.queue = []\n",
        "        self.temp = None\n",
        "\n",
        "    def push(self, x):\n",
        "        \"\"\"\n",
        "        Push element x onto stack.\n",
        "        :type x: int\n",
        "        :rtype: void\n",
        "        \"\"\"\n",
        "        self.queue.append(x)\n",
        "\n",
        "    def pop(self):\n",
        "        \"\"\"\n",
        "        Removes the element on top of the stack and returns that element.\n",
        "        :rtype: int\n",
        "        \"\"\"\n",
        "        return self.queue.pop()\n",
        "        \n",
        "        \n",
        "        \n",
        "\n",
        "    def top(self):\n",
        "        \"\"\"\n",
        "        Get the top element.\n",
        "        :rtype: int\n",
        "        \"\"\"\n",
        "    \n",
        "        self.temp = self.queue.pop()\n",
        "        self.queue.append(self.temp)\n",
        "        return self.temp\n",
        "        \n",
        "\n",
        "    def empty(self):\n",
        "        \"\"\"\n",
        "        Returns whether the stack is empty.\n",
        "        :rtype: bool\n",
        "        \n",
        "    \n",
        "        \"\"\"\n",
        "        #print(self.stack)\n",
        "        return (len(self.queue) == 0)\n",
        "        \n",
        "\n",
        "\n",
        "# Your MyStack object will be instantiated and called as such:\n",
        "# obj = MyStack()\n",
        "# obj.push(x)\n",
        "# param_2 = obj.pop()\n",
        "# param_3 = obj.top()\n",
        "# param_4 = obj.empty()"
      ],
      "execution_count": 0,
      "outputs": []
    },
    {
      "cell_type": "markdown",
      "metadata": {
        "id": "VjG4-Y7nHUaw",
        "colab_type": "text"
      },
      "source": [
        "## 232. Implement Queue using Stacks\n",
        "\n",
        "\n"
      ]
    },
    {
      "cell_type": "code",
      "metadata": {
        "id": "dzPaVkEzHUok",
        "colab_type": "code",
        "colab": {}
      },
      "source": [
        "class MyQueue(object):\n",
        "\n",
        "    def __init__(self):\n",
        "        \"\"\"\n",
        "        Initialize your data structure here.\n",
        "        \"\"\"\n",
        "        self.s1 = []\n",
        "        self.s2 = []\n",
        "\n",
        "    def push(self, x):\n",
        "        \"\"\"\n",
        "        Push element x to the back of queue.\n",
        "        :type x: int\n",
        "        :rtype: void\n",
        "        \"\"\"\n",
        "        self.s1.append(x)\n",
        "        \n",
        "        \n",
        "\n",
        "    def pop(self):\n",
        "        \"\"\"\n",
        "        Removes the element from in front of queue and returns that element.\n",
        "        :rtype: int\n",
        "        \"\"\"\n",
        "        \n",
        "        if len(self.s2) == 0:\n",
        "            while len(self.s1) != 0:\n",
        "                self.s2.append(self.s1.pop())\n",
        "        return self.s2.pop()\n",
        "    \n",
        "    \n",
        "\n",
        "    def peek(self):\n",
        "        \"\"\"\n",
        "        Get the front element.\n",
        "        :rtype: int\n",
        "        \"\"\"\n",
        "        val = self.pop()\n",
        "        self.s2.append(val)\n",
        "        return val\n",
        "\n",
        "    def empty(self):\n",
        "        \"\"\"\n",
        "        Returns whether the queue is empty.\n",
        "        :rtype: bool\n",
        "        \"\"\"\n",
        "        return (len(self.s1) + len(self.s2) == 0)\n",
        "        \n",
        "\n",
        "\n",
        "# Your MyQueue object will be instantiated and called as such:\n",
        "# obj = MyQueue()\n",
        "# obj.push(x)\n",
        "# param_2 = obj.pop()\n",
        "# param_3 = obj.peek()\n",
        "# param_4 = obj.empty()"
      ],
      "execution_count": 0,
      "outputs": []
    },
    {
      "cell_type": "markdown",
      "metadata": {
        "id": "MSvLqH3JHvou",
        "colab_type": "text"
      },
      "source": [
        "## 189. Rotate Array\n"
      ]
    },
    {
      "cell_type": "code",
      "metadata": {
        "id": "dSzK1TR_Hv2R",
        "colab_type": "code",
        "colab": {}
      },
      "source": [
        "class Solution(object):\n",
        "    def reverse(self,arr):\n",
        "        return arr[::-1]\n",
        "    def rotate(self, nums, k):\n",
        "        \"\"\"\n",
        "        :type nums: List[int]\n",
        "        :type k: int\n",
        "        :rtype: void Do not return anything, modify nums in-place instead.\n",
        "        \"\"\"\n",
        "        \n",
        "        nums [:] = self.reverse(  (self.reverse(nums[0:(len(nums)-k)])) + (self.reverse(nums[len(nums)-k:len(nums)])))\n",
        "        \n",
        "     "
      ],
      "execution_count": 0,
      "outputs": []
    }
  ]
}