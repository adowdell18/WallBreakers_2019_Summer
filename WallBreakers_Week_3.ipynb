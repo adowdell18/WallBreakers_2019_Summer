{
  "nbformat": 4,
  "nbformat_minor": 0,
  "metadata": {
    "colab": {
      "name": "WallBreakers Week 3 ",
      "version": "0.3.2",
      "provenance": [],
      "collapsed_sections": []
    },
    "kernelspec": {
      "name": "python3",
      "display_name": "Python 3"
    }
  },
  "cells": [
    {
      "cell_type": "markdown",
      "metadata": {
        "id": "0Lokyd1smLkQ",
        "colab_type": "text"
      },
      "source": [
        "## Is Subsequence"
      ]
    },
    {
      "cell_type": "code",
      "metadata": {
        "id": "3rPTOLGFl-wc",
        "colab_type": "code",
        "colab": {}
      },
      "source": [
        "class Solution(object):\n",
        "    def isSubsequence(self, s, t):\n",
        "        \"\"\"\n",
        "        :type s: str\n",
        "        :type t: str\n",
        "        :rtype: bool\n",
        "        \"\"\"\n",
        "        if not s:\n",
        "            return True\n",
        "        if s[0] not in t:\n",
        "            return False\n",
        "        index = t.index(s[0])\n",
        "        \n",
        "        return (self.isSubsequence(s[1:], t[index + 1: ]))"
      ],
      "execution_count": 0,
      "outputs": []
    },
    {
      "cell_type": "markdown",
      "metadata": {
        "id": "2biKbbFmHb8N",
        "colab_type": "text"
      },
      "source": [
        "##findMinArrowShots\n"
      ]
    },
    {
      "cell_type": "code",
      "metadata": {
        "id": "I2LfFAAbHbsy",
        "colab_type": "code",
        "colab": {}
      },
      "source": [
        "class Solution(object):\n",
        "    def findMinArrowShots(self, points):\n",
        "        \"\"\"\n",
        "        :type points: List[List[int]]\n",
        "        :rtype: int\n",
        "        \"\"\"\n",
        "        min_arrows = 1\n",
        "        if not points:\n",
        "            return 0\n",
        "        points = sorted(points, key = lambda x:x[1])\n",
        "        right_side = points[0][1]\n",
        "        for i in points: \n",
        "            if i[0] > right_side:\n",
        "                right_side = i[1]\n",
        "                min_arrows += 1\n",
        "        return min_arrows"
      ],
      "execution_count": 0,
      "outputs": []
    },
    {
      "cell_type": "markdown",
      "metadata": {
        "id": "xTyxH0iGA3Se",
        "colab_type": "text"
      },
      "source": [
        "## Lemonade Change"
      ]
    },
    {
      "cell_type": "code",
      "metadata": {
        "id": "fzwcHgVlA3hl",
        "colab_type": "code",
        "colab": {}
      },
      "source": [
        "class Solution:\n",
        "    def lemonadeChange(self, bills):\n",
        "        d = {5:0, 10:0, 20:0}\n",
        "        for i in bills:\n",
        "            if i == 5:\n",
        "                d[5] += 1\n",
        "            elif i == 10:\n",
        "                if (d[5] >= 1):\n",
        "                    d[5] = d[5] - 1\n",
        "                    d[10] += 1\n",
        "                else:\n",
        "                    return False\n",
        "            elif i == 20:\n",
        "                if (d[5] >= 1 and d[10] >= 1):\n",
        "                    d[5] -= 1\n",
        "                    d[10] -= 1\n",
        "                    d[20] += 1\n",
        "                elif (d[5] >= 3):\n",
        "                    d[5] -= 3\n",
        "                    d[20] += 1\n",
        "                else:\n",
        "                    return False\n",
        "        return True"
      ],
      "execution_count": 0,
      "outputs": []
    },
    {
      "cell_type": "markdown",
      "metadata": {
        "id": "Hx26yfP_A-kG",
        "colab_type": "text"
      },
      "source": [
        "## Find Content Children"
      ]
    },
    {
      "cell_type": "code",
      "metadata": {
        "id": "P9Kmwf6FA-zE",
        "colab_type": "code",
        "colab": {}
      },
      "source": [
        "class Solution(object):\n",
        "    def findContentChildren(self, g, s):\n",
        "        count = 0\n",
        "        i = len(g) - 1\n",
        "        j = len(s) - 1\n",
        "        g = sorted(g)\n",
        "        s = sorted(s)\n",
        "\n",
        "        while min(i, j) >= 0:\n",
        "            if g[i] <= s[j]:\n",
        "                count += 1\n",
        "                j -= 1\n",
        "            i -= 1\n",
        "        return count\n"
      ],
      "execution_count": 0,
      "outputs": []
    },
    {
      "cell_type": "markdown",
      "metadata": {
        "id": "u-Vq-NtHBKCH",
        "colab_type": "text"
      },
      "source": [
        "## Is Subsequence"
      ]
    },
    {
      "cell_type": "code",
      "metadata": {
        "id": "IHJhZzWiBKNa",
        "colab_type": "code",
        "colab": {}
      },
      "source": [
        "class Solution(object):\n",
        "    def isSubsequence(self, s, t):\n",
        "        \"\"\"\n",
        "        :type s: str\n",
        "        :type t: str\n",
        "        :rtype: bool\n",
        "        \"\"\"\n",
        "        if not s:\n",
        "            return True\n",
        "        if s[0] not in t:\n",
        "            return False\n",
        "        index = t.index(s[0])\n",
        "        \n",
        "        return (self.isSubsequence(s[1:], t[index + 1: ]))"
      ],
      "execution_count": 0,
      "outputs": []
    },
    {
      "cell_type": "markdown",
      "metadata": {
        "id": "GY_IJFwmBTzg",
        "colab_type": "text"
      },
      "source": [
        "## Find Min Arrow Shots"
      ]
    },
    {
      "cell_type": "code",
      "metadata": {
        "id": "LkfSG7NNBT85",
        "colab_type": "code",
        "colab": {}
      },
      "source": [
        "class Solution(object):\n",
        "    def findMinArrowShots(self, points):\n",
        "        \"\"\"\n",
        "        :type points: List[List[int]]\n",
        "        :rtype: int\n",
        "        \"\"\"\n",
        "        min_arrows = 1\n",
        "        if not points:\n",
        "            return 0\n",
        "        points = sorted(points, key = lambda x:x[1])\n",
        "        right_side = points[0][1]\n",
        "        for i in points: \n",
        "            if i[0] > right_side:\n",
        "                right_side = i[1]\n",
        "                min_arrows += 1\n",
        "        return min_arrows"
      ],
      "execution_count": 0,
      "outputs": []
    },
    {
      "cell_type": "markdown",
      "metadata": {
        "id": "8iqnwGm7BcIT",
        "colab_type": "text"
      },
      "source": [
        "## Partition Labels"
      ]
    },
    {
      "cell_type": "code",
      "metadata": {
        "id": "l4AXMS-sBcUT",
        "colab_type": "code",
        "colab": {}
      },
      "source": [
        "class Solution:\n",
        "    def partitionLabels(self, S):\n",
        "        \"\"\"\n",
        "        :type S: str\n",
        "        :rtype: List[int]\n",
        "        \"\"\"\n",
        "        \n",
        "        partitions = []\n",
        "        start, end = 0,0\n",
        "        for i in range (len(S)):\n",
        "            end = max (end, S.rfind(S[i]))\n",
        "            if i == end:\n",
        "                partitions.append((end - start) + 1)\n",
        "                start = end + 1\n",
        "        return partitions"
      ],
      "execution_count": 0,
      "outputs": []
    },
    {
      "cell_type": "markdown",
      "metadata": {
        "id": "vKRd9yHpCXZv",
        "colab_type": "text"
      },
      "source": [
        "## Search\n"
      ]
    },
    {
      "cell_type": "code",
      "metadata": {
        "id": "pg7goTK0CXkw",
        "colab_type": "code",
        "colab": {}
      },
      "source": [
        "class Solution:\n",
        "    def search(self, nums, target):\n",
        "        \"\"\"\n",
        "        :type nums: List[int]\n",
        "        :type target: int\n",
        "        :rtype: int\n",
        "        \"\"\"\n",
        "        \n",
        "        low, high = 0, len(nums) - 1\n",
        "        \n",
        "        while low <= high:\n",
        "            mid = (low + high)//2\n",
        "            if nums[mid] == target:\n",
        "                return mid        \n",
        "            elif nums[mid] < target:\n",
        "                low = mid + 1\n",
        "            else:\n",
        "                high = mid - 1\n",
        "        return -1"
      ],
      "execution_count": 0,
      "outputs": []
    }
  ]
}