{
  "nbformat": 4,
  "nbformat_minor": 0,
  "metadata": {
    "colab": {
      "name": "WallBreakers_Week1.ipynb",
      "version": "0.3.2",
      "provenance": [],
      "collapsed_sections": []
    },
    "kernelspec": {
      "name": "python3",
      "display_name": "Python 3"
    }
  },
  "cells": [
    {
      "cell_type": "markdown",
      "metadata": {
        "id": "hLFQnhSdMqPh",
        "colab_type": "text"
      },
      "source": [
        "##***Single Number\n"
      ]
    },
    {
      "cell_type": "code",
      "metadata": {
        "id": "nETEj6Q-MZwN",
        "colab_type": "code",
        "colab": {}
      },
      "source": [
        "\n",
        "class Solution(object):\n",
        "    def singleNumber(self, nums):\n",
        "        \"\"\"\n",
        "        :type nums: List[int]\n",
        "        :rtype: int\n",
        "        \"\"\"\n",
        "        solution = reduce(operator.xor, nums)\n",
        "        return solution"
      ],
      "execution_count": 0,
      "outputs": []
    },
    {
      "cell_type": "markdown",
      "metadata": {
        "id": "HRNLDUWLM0wc",
        "colab_type": "text"
      },
      "source": [
        "## ***Week1_reverseString"
      ]
    },
    {
      "cell_type": "code",
      "metadata": {
        "id": "Cg7bg9llM066",
        "colab_type": "code",
        "colab": {}
      },
      "source": [
        "\n",
        "class Solution(object):\n",
        "    def reverseString(self, s):\n",
        "        \"\"\"\n",
        "        :type s: str\n",
        "        :rtype: str\n",
        "        \"\"\"\n",
        "        return s[::-1]"
      ],
      "execution_count": 0,
      "outputs": []
    },
    {
      "cell_type": "markdown",
      "metadata": {
        "id": "fwVRncuOM1UJ",
        "colab_type": "text"
      },
      "source": [
        "##**Week 1 Two Sum\n"
      ]
    },
    {
      "cell_type": "code",
      "metadata": {
        "id": "KpvfYSjjM1ev",
        "colab_type": "code",
        "colab": {}
      },
      "source": [
        "    \n",
        "class Solution(object):\n",
        "    def twoSum(self, nums, target):\n",
        "        \"\"\"\n",
        "        :type nums: List[int]\n",
        "        :type target: int\n",
        "        :rtype: List[int]\n",
        "        \"\"\"\n",
        "        \n",
        "        sum_hash = {}\n",
        "        for ind, c_num in enumerate (nums):\n",
        "            if target - c_num in sum_hash:\n",
        "                return ([sum_hash[target-c_num], ind])\n",
        "                break\n",
        "            sum_hash[c_num] = ind"
      ],
      "execution_count": 0,
      "outputs": []
    },
    {
      "cell_type": "markdown",
      "metadata": {
        "id": "rEM1NabEM1pK",
        "colab_type": "text"
      },
      "source": [
        "##Excel Sheet to Column Number"
      ]
    },
    {
      "cell_type": "code",
      "metadata": {
        "id": "bxYJpVUbM1xz",
        "colab_type": "code",
        "colab": {}
      },
      "source": [
        "    def titleToNumber(self, s):\n",
        "        \"\"\"\n",
        "        :type s: str\n",
        "        :rtype: int\n",
        "        \"\"\"\n",
        "        total = 0\n",
        "        for letter in s:\n",
        "            total = ord(letter) + (total * 26)\n",
        "            total = total - 64\n",
        "        return total  "
      ],
      "execution_count": 0,
      "outputs": []
    },
    {
      "cell_type": "markdown",
      "metadata": {
        "id": "jrmXDzLmM16t",
        "colab_type": "text"
      },
      "source": [
        "##Is Power Of Two"
      ]
    },
    {
      "cell_type": "code",
      "metadata": {
        "id": "4z3Oqp4lM2Cw",
        "colab_type": "code",
        "colab": {}
      },
      "source": [
        "class Solution(object):\n",
        "            \n",
        "    def isPowerOfTwo(self, n):\n",
        "        \"\"\"\n",
        "        :type n: int\n",
        "        :rtype: bool\n",
        "        \"\"\"\n",
        "        #print(( n & (n - 1)))\n",
        "        if ( n & (n - 1)):\n",
        "            return False\n",
        "        else:\n",
        "            if(n>0):\n",
        "                return True\n"
      ],
      "execution_count": 0,
      "outputs": []
    },
    {
      "cell_type": "markdown",
      "metadata": {
        "id": "HsJMEBKRM2K3",
        "colab_type": "text"
      },
      "source": [
        ""
      ]
    },
    {
      "cell_type": "code",
      "metadata": {
        "id": "fECoaRqhM2Sq",
        "colab_type": "code",
        "colab": {}
      },
      "source": [
        ""
      ],
      "execution_count": 0,
      "outputs": []
    },
    {
      "cell_type": "markdown",
      "metadata": {
        "id": "aCFDl8yMM2az",
        "colab_type": "text"
      },
      "source": [
        ""
      ]
    },
    {
      "cell_type": "code",
      "metadata": {
        "id": "wcjj5kgdM2il",
        "colab_type": "code",
        "colab": {}
      },
      "source": [
        ""
      ],
      "execution_count": 0,
      "outputs": []
    },
    {
      "cell_type": "markdown",
      "metadata": {
        "id": "2UFkaZoEM2q7",
        "colab_type": "text"
      },
      "source": [
        ""
      ]
    },
    {
      "cell_type": "code",
      "metadata": {
        "id": "9iOsYST7M2yp",
        "colab_type": "code",
        "colab": {}
      },
      "source": [
        ""
      ],
      "execution_count": 0,
      "outputs": []
    },
    {
      "cell_type": "markdown",
      "metadata": {
        "id": "_J7y8hapM270",
        "colab_type": "text"
      },
      "source": [
        ""
      ]
    },
    {
      "cell_type": "code",
      "metadata": {
        "id": "aUj_2hzQM3EH",
        "colab_type": "code",
        "colab": {}
      },
      "source": [
        ""
      ],
      "execution_count": 0,
      "outputs": []
    },
    {
      "cell_type": "markdown",
      "metadata": {
        "id": "9x-lX0loM3Mo",
        "colab_type": "text"
      },
      "source": [
        ""
      ]
    },
    {
      "cell_type": "code",
      "metadata": {
        "id": "H5QM3PIHM3Ux",
        "colab_type": "code",
        "colab": {}
      },
      "source": [
        ""
      ],
      "execution_count": 0,
      "outputs": []
    },
    {
      "cell_type": "markdown",
      "metadata": {
        "id": "134m5FQRM3dU",
        "colab_type": "text"
      },
      "source": [
        ""
      ]
    },
    {
      "cell_type": "code",
      "metadata": {
        "id": "-ZsV42WWM3ks",
        "colab_type": "code",
        "colab": {}
      },
      "source": [
        ""
      ],
      "execution_count": 0,
      "outputs": []
    }
  ]
}